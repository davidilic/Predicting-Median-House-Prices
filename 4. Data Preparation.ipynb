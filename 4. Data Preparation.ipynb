{
 "cells": [
  {
   "cell_type": "markdown",
   "id": "3d81940c",
   "metadata": {},
   "source": [
    "# 4. DATA PREPARATION"
   ]
  },
  {
   "cell_type": "code",
   "execution_count": 1,
   "id": "c0323b0a",
   "metadata": {},
   "outputs": [],
   "source": [
    "import pandas as pd\n",
    "from sklearn.preprocessing import LabelBinarizer\n",
    "from sklearn.impute import SimpleImputer\n",
    "from sklearn.preprocessing import StandardScaler"
   ]
  },
  {
   "cell_type": "code",
   "execution_count": 2,
   "id": "70f6c7e4",
   "metadata": {},
   "outputs": [],
   "source": [
    "%store -r train_set\n",
    "%store -r test_set\n",
    "\n",
    "y_train = train_set['median_house_value']\n",
    "X_train = train_set.drop('median_house_value', axis=1)\n",
    "\n",
    "y_test = test_set['median_house_value']\n",
    "X_test = test_set.drop('median_house_value', axis=1)"
   ]
  },
  {
   "cell_type": "markdown",
   "id": "c24f8516",
   "metadata": {},
   "source": [
    "### 4.1 ENCODING"
   ]
  },
  {
   "cell_type": "code",
   "execution_count": 3,
   "id": "10970cbc",
   "metadata": {},
   "outputs": [],
   "source": [
    "def ocean_priximity_oh_encoder(data):\n",
    "    encoder = LabelBinarizer()\n",
    "    ocean_proximity_oh = encoder.fit_transform(data['ocean_proximity'])\n",
    "    ocean_proximity_oh_df = pd.DataFrame(ocean_proximity_oh, columns=data['ocean_proximity'].unique(), index=data.index)\n",
    "    data = pd.concat([data, ocean_proximity_oh_df], axis = 1)\n",
    "    data = data.drop(['ocean_proximity'], axis=1)\n",
    "    return data\n",
    "    "
   ]
  },
  {
   "cell_type": "code",
   "execution_count": 4,
   "id": "111ba7e5",
   "metadata": {
    "scrolled": false
   },
   "outputs": [],
   "source": [
    "X_train = ocean_priximity_oh_encoder(X_train)\n",
    "X_test = ocean_priximity_oh_encoder(X_test)"
   ]
  },
  {
   "cell_type": "code",
   "execution_count": 5,
   "id": "4cf90188",
   "metadata": {},
   "outputs": [
    {
     "data": {
      "text/html": [
       "<div>\n",
       "<style scoped>\n",
       "    .dataframe tbody tr th:only-of-type {\n",
       "        vertical-align: middle;\n",
       "    }\n",
       "\n",
       "    .dataframe tbody tr th {\n",
       "        vertical-align: top;\n",
       "    }\n",
       "\n",
       "    .dataframe thead th {\n",
       "        text-align: right;\n",
       "    }\n",
       "</style>\n",
       "<table border=\"1\" class=\"dataframe\">\n",
       "  <thead>\n",
       "    <tr style=\"text-align: right;\">\n",
       "      <th></th>\n",
       "      <th>longitude</th>\n",
       "      <th>latitude</th>\n",
       "      <th>housing_median_age</th>\n",
       "      <th>total_rooms</th>\n",
       "      <th>total_bedrooms</th>\n",
       "      <th>population</th>\n",
       "      <th>households</th>\n",
       "      <th>median_income</th>\n",
       "      <th>NEAR OCEAN</th>\n",
       "      <th>&lt;1H OCEAN</th>\n",
       "      <th>INLAND</th>\n",
       "      <th>NEAR BAY</th>\n",
       "      <th>ISLAND</th>\n",
       "    </tr>\n",
       "  </thead>\n",
       "  <tbody>\n",
       "    <tr>\n",
       "      <th>18543</th>\n",
       "      <td>-122.03</td>\n",
       "      <td>36.97</td>\n",
       "      <td>36.0</td>\n",
       "      <td>337.0</td>\n",
       "      <td>69.0</td>\n",
       "      <td>223.0</td>\n",
       "      <td>68.0</td>\n",
       "      <td>3.2404</td>\n",
       "      <td>0</td>\n",
       "      <td>0</td>\n",
       "      <td>0</td>\n",
       "      <td>0</td>\n",
       "      <td>1</td>\n",
       "    </tr>\n",
       "    <tr>\n",
       "      <th>15147</th>\n",
       "      <td>-116.94</td>\n",
       "      <td>32.87</td>\n",
       "      <td>24.0</td>\n",
       "      <td>2824.0</td>\n",
       "      <td>441.0</td>\n",
       "      <td>1480.0</td>\n",
       "      <td>471.0</td>\n",
       "      <td>5.2614</td>\n",
       "      <td>1</td>\n",
       "      <td>0</td>\n",
       "      <td>0</td>\n",
       "      <td>0</td>\n",
       "      <td>0</td>\n",
       "    </tr>\n",
       "    <tr>\n",
       "      <th>9966</th>\n",
       "      <td>-122.40</td>\n",
       "      <td>38.46</td>\n",
       "      <td>33.0</td>\n",
       "      <td>2542.0</td>\n",
       "      <td>466.0</td>\n",
       "      <td>1099.0</td>\n",
       "      <td>420.0</td>\n",
       "      <td>4.6350</td>\n",
       "      <td>0</td>\n",
       "      <td>1</td>\n",
       "      <td>0</td>\n",
       "      <td>0</td>\n",
       "      <td>0</td>\n",
       "    </tr>\n",
       "    <tr>\n",
       "      <th>16781</th>\n",
       "      <td>-122.48</td>\n",
       "      <td>37.67</td>\n",
       "      <td>31.0</td>\n",
       "      <td>2609.0</td>\n",
       "      <td>433.0</td>\n",
       "      <td>1746.0</td>\n",
       "      <td>464.0</td>\n",
       "      <td>5.1054</td>\n",
       "      <td>0</td>\n",
       "      <td>0</td>\n",
       "      <td>0</td>\n",
       "      <td>0</td>\n",
       "      <td>1</td>\n",
       "    </tr>\n",
       "    <tr>\n",
       "      <th>10892</th>\n",
       "      <td>-117.87</td>\n",
       "      <td>33.72</td>\n",
       "      <td>39.0</td>\n",
       "      <td>3167.0</td>\n",
       "      <td>669.0</td>\n",
       "      <td>2789.0</td>\n",
       "      <td>619.0</td>\n",
       "      <td>3.5902</td>\n",
       "      <td>1</td>\n",
       "      <td>0</td>\n",
       "      <td>0</td>\n",
       "      <td>0</td>\n",
       "      <td>0</td>\n",
       "    </tr>\n",
       "  </tbody>\n",
       "</table>\n",
       "</div>"
      ],
      "text/plain": [
       "       longitude  latitude  housing_median_age  total_rooms  total_bedrooms  \\\n",
       "18543    -122.03     36.97                36.0        337.0            69.0   \n",
       "15147    -116.94     32.87                24.0       2824.0           441.0   \n",
       "9966     -122.40     38.46                33.0       2542.0           466.0   \n",
       "16781    -122.48     37.67                31.0       2609.0           433.0   \n",
       "10892    -117.87     33.72                39.0       3167.0           669.0   \n",
       "\n",
       "       population  households  median_income  NEAR OCEAN  <1H OCEAN  INLAND  \\\n",
       "18543       223.0        68.0         3.2404           0          0       0   \n",
       "15147      1480.0       471.0         5.2614           1          0       0   \n",
       "9966       1099.0       420.0         4.6350           0          1       0   \n",
       "16781      1746.0       464.0         5.1054           0          0       0   \n",
       "10892      2789.0       619.0         3.5902           1          0       0   \n",
       "\n",
       "       NEAR BAY  ISLAND  \n",
       "18543         0       1  \n",
       "15147         0       0  \n",
       "9966          0       0  \n",
       "16781         0       1  \n",
       "10892         0       0  "
      ]
     },
     "execution_count": 5,
     "metadata": {},
     "output_type": "execute_result"
    }
   ],
   "source": [
    "X_train.head()"
   ]
  },
  {
   "cell_type": "markdown",
   "id": "710938cc",
   "metadata": {},
   "source": [
    "### 4.2 CLEANING THE DATA"
   ]
  },
  {
   "cell_type": "code",
   "execution_count": 6,
   "id": "a7388829",
   "metadata": {},
   "outputs": [
    {
     "name": "stdout",
     "output_type": "stream",
     "text": [
      "<class 'pandas.core.frame.DataFrame'>\n",
      "Int64Index: 16512 entries, 18543 to 13497\n",
      "Data columns (total 13 columns):\n",
      " #   Column              Non-Null Count  Dtype  \n",
      "---  ------              --------------  -----  \n",
      " 0   longitude           16512 non-null  float64\n",
      " 1   latitude            16512 non-null  float64\n",
      " 2   housing_median_age  16512 non-null  float64\n",
      " 3   total_rooms         16512 non-null  float64\n",
      " 4   total_bedrooms      16360 non-null  float64\n",
      " 5   population          16512 non-null  float64\n",
      " 6   households          16512 non-null  float64\n",
      " 7   median_income       16512 non-null  float64\n",
      " 8   NEAR OCEAN          16512 non-null  int32  \n",
      " 9   <1H OCEAN           16512 non-null  int32  \n",
      " 10  INLAND              16512 non-null  int32  \n",
      " 11  NEAR BAY            16512 non-null  int32  \n",
      " 12  ISLAND              16512 non-null  int32  \n",
      "dtypes: float64(8), int32(5)\n",
      "memory usage: 1.4 MB\n"
     ]
    }
   ],
   "source": [
    "X_train.info()"
   ]
  },
  {
   "cell_type": "code",
   "execution_count": 7,
   "id": "82851f91",
   "metadata": {},
   "outputs": [
    {
     "name": "stdout",
     "output_type": "stream",
     "text": [
      "<class 'pandas.core.frame.DataFrame'>\n",
      "Int64Index: 4128 entries, 7914 to 2431\n",
      "Data columns (total 13 columns):\n",
      " #   Column              Non-Null Count  Dtype  \n",
      "---  ------              --------------  -----  \n",
      " 0   longitude           4128 non-null   float64\n",
      " 1   latitude            4128 non-null   float64\n",
      " 2   housing_median_age  4128 non-null   float64\n",
      " 3   total_rooms         4128 non-null   float64\n",
      " 4   total_bedrooms      4073 non-null   float64\n",
      " 5   population          4128 non-null   float64\n",
      " 6   households          4128 non-null   float64\n",
      " 7   median_income       4128 non-null   float64\n",
      " 8   <1H OCEAN           4128 non-null   int32  \n",
      " 9   INLAND              4128 non-null   int32  \n",
      " 10  NEAR OCEAN          4128 non-null   int32  \n",
      " 11  NEAR BAY            4128 non-null   int32  \n",
      " 12  ISLAND              4128 non-null   int32  \n",
      "dtypes: float64(8), int32(5)\n",
      "memory usage: 370.9 KB\n"
     ]
    }
   ],
   "source": [
    "X_test.info()"
   ]
  },
  {
   "cell_type": "code",
   "execution_count": 8,
   "id": "deb00a3b",
   "metadata": {},
   "outputs": [],
   "source": [
    "def total_bedrooms_nan_transform(train_data, test_data):\n",
    "    imputer = SimpleImputer(strategy = 'median')\n",
    "    \n",
    "    imputer.fit(train_data)\n",
    "    \n",
    "    train_data_transformed = imputer.transform(train_data)\n",
    "    test_data_transformed = imputer.transform(test_data)\n",
    "    \n",
    "    train_data_transformed = pd.DataFrame(train_data_transformed, columns = train_data.columns)\n",
    "    test_data_transformed = pd.DataFrame(test_data_transformed, columns = test_data.columns)\n",
    "    \n",
    "    return train_data_transformed, test_data_transformed"
   ]
  },
  {
   "cell_type": "code",
   "execution_count": 9,
   "id": "ad87fdbd",
   "metadata": {},
   "outputs": [
    {
     "name": "stdout",
     "output_type": "stream",
     "text": [
      "<class 'pandas.core.frame.DataFrame'>\n",
      "RangeIndex: 4128 entries, 0 to 4127\n",
      "Data columns (total 13 columns):\n",
      " #   Column              Non-Null Count  Dtype  \n",
      "---  ------              --------------  -----  \n",
      " 0   longitude           4128 non-null   float64\n",
      " 1   latitude            4128 non-null   float64\n",
      " 2   housing_median_age  4128 non-null   float64\n",
      " 3   total_rooms         4128 non-null   float64\n",
      " 4   total_bedrooms      4128 non-null   float64\n",
      " 5   population          4128 non-null   float64\n",
      " 6   households          4128 non-null   float64\n",
      " 7   median_income       4128 non-null   float64\n",
      " 8   <1H OCEAN           4128 non-null   float64\n",
      " 9   INLAND              4128 non-null   float64\n",
      " 10  NEAR OCEAN          4128 non-null   float64\n",
      " 11  NEAR BAY            4128 non-null   float64\n",
      " 12  ISLAND              4128 non-null   float64\n",
      "dtypes: float64(13)\n",
      "memory usage: 419.3 KB\n"
     ]
    }
   ],
   "source": [
    "X_train, X_test = total_bedrooms_nan_transform(X_train, X_test)\n",
    "X_test.info()"
   ]
  },
  {
   "cell_type": "markdown",
   "id": "cce28479",
   "metadata": {},
   "source": [
    "### 4.3 ATTRIBUTE COMPOSITION"
   ]
  },
  {
   "cell_type": "code",
   "execution_count": 10,
   "id": "68568211",
   "metadata": {},
   "outputs": [],
   "source": [
    "def compose_bedrooms_per_room(data):\n",
    "    data['bedrooms_per_room'] = data['total_bedrooms'] / data['total_rooms']\n",
    "    return data\n",
    "\n",
    "def compose_rooms_per_house(data):\n",
    "    data['rooms_per_house'] = data['total_rooms'] / data['households']\n",
    "    return data"
   ]
  },
  {
   "cell_type": "code",
   "execution_count": 11,
   "id": "c2f4e504",
   "metadata": {},
   "outputs": [],
   "source": [
    "X_train = compose_bedrooms_per_room(X_train)\n",
    "X_train = compose_rooms_per_house(X_train)\n",
    "X_test = compose_bedrooms_per_room(X_test)\n",
    "X_test = compose_rooms_per_house(X_test)"
   ]
  },
  {
   "cell_type": "markdown",
   "id": "2330ae97",
   "metadata": {},
   "source": [
    "### 4.4 FEATURE SCALING"
   ]
  },
  {
   "cell_type": "code",
   "execution_count": 12,
   "id": "9d38a72a",
   "metadata": {},
   "outputs": [],
   "source": [
    "def feature_scaling_standard_scaler(train, test):\n",
    "    scaler = StandardScaler()\n",
    "    scaler.fit(train)\n",
    "    train = pd.DataFrame(scaler.transform(train), columns = train.columns)\n",
    "    test = pd.DataFrame(scaler.transform(test), columns = test.columns)\n",
    "    return train, test"
   ]
  },
  {
   "cell_type": "code",
   "execution_count": 13,
   "id": "6f4e4c05",
   "metadata": {},
   "outputs": [],
   "source": [
    "X_train, X_test = feature_scaling_standard_scaler(X_train, X_test)"
   ]
  },
  {
   "cell_type": "code",
   "execution_count": 14,
   "id": "68dc7317",
   "metadata": {},
   "outputs": [
    {
     "name": "stdout",
     "output_type": "stream",
     "text": [
      "Stored 'X_train' (DataFrame)\n",
      "Stored 'X_test' (DataFrame)\n",
      "Stored 'y_train' (Series)\n",
      "Stored 'y_test' (Series)\n"
     ]
    }
   ],
   "source": [
    "%store X_train X_test y_train y_test"
   ]
  }
 ],
 "metadata": {
  "kernelspec": {
   "display_name": "Python 3 (ipykernel)",
   "language": "python",
   "name": "python3"
  },
  "language_info": {
   "codemirror_mode": {
    "name": "ipython",
    "version": 3
   },
   "file_extension": ".py",
   "mimetype": "text/x-python",
   "name": "python",
   "nbconvert_exporter": "python",
   "pygments_lexer": "ipython3",
   "version": "3.8.11"
  }
 },
 "nbformat": 4,
 "nbformat_minor": 5
}
