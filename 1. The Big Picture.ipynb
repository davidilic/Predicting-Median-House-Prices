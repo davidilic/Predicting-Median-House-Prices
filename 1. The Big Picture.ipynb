{
 "cells": [
  {
   "cell_type": "markdown",
   "id": "4739fe86",
   "metadata": {},
   "source": [
    "# 1. THE BIG PICTURE"
   ]
  },
  {
   "cell_type": "markdown",
   "id": "ea48911d",
   "metadata": {},
   "source": [
    "### 1.1 FRAMING THE PROBLEM"
   ]
  },
  {
   "cell_type": "markdown",
   "id": "1a42ae6c",
   "metadata": {},
   "source": [
    "The goal of the house pricing model is to predict median housing price in any district given relevant data.\n",
    "The relevant data is population of the district, median income of the district, crime rate of the district and other such data points.\n",
    "\n",
    "The outputs of this model will be stored in a database, which will then serve as a key datapoint in investment analysis and final investments. If the investment pipeline is working corretly, the end result of the investments will be profit.\n",
    "\n",
    "The district prices are currently estimated manually, by experts. This is inprecise, costs a lot and consumes a lot of time - the error rate is 50.000 USD.\n",
    "\n",
    "Given the nature of the problem, a supervised learning model will be used. \n",
    "The model will use model-based learning and learn in batches."
   ]
  },
  {
   "cell_type": "markdown",
   "id": "570de223",
   "metadata": {},
   "source": [
    "### 1.2 MEASURING PERFORMANCE"
   ]
  },
  {
   "cell_type": "markdown",
   "id": "af8cd795",
   "metadata": {},
   "source": [
    "Performance will be measured using the Root Mean Squared Error (RMSE). \n",
    "The error rate must be lower than 50.000 USD.\n",
    "The goal error rate is 35.000 USD."
   ]
  }
 ],
 "metadata": {
  "kernelspec": {
   "display_name": "Python 3 (ipykernel)",
   "language": "python",
   "name": "python3"
  },
  "language_info": {
   "codemirror_mode": {
    "name": "ipython",
    "version": 3
   },
   "file_extension": ".py",
   "mimetype": "text/x-python",
   "name": "python",
   "nbconvert_exporter": "python",
   "pygments_lexer": "ipython3",
   "version": "3.8.11"
  }
 },
 "nbformat": 4,
 "nbformat_minor": 5
}
