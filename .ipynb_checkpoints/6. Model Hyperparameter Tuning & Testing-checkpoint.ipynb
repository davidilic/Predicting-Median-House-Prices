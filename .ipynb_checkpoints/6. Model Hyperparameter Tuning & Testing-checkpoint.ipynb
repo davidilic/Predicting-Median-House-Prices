{
 "cells": [
  {
   "cell_type": "markdown",
   "id": "4e69ddcc",
   "metadata": {},
   "source": [
    "# 6. MODEL TUNING AND CHOICE"
   ]
  },
  {
   "cell_type": "code",
   "execution_count": 1,
   "id": "c544b2d5",
   "metadata": {},
   "outputs": [],
   "source": [
    "import numpy as np\n",
    "import pandas as pd\n",
    "from sklearn.model_selection import GridSearchCV\n",
    "from sklearn.ensemble import RandomForestRegressor\n",
    "from sklearn.metrics import mean_squared_error"
   ]
  },
  {
   "cell_type": "code",
   "execution_count": 2,
   "id": "e391ce6f",
   "metadata": {},
   "outputs": [],
   "source": [
    "%store -r X_train X_test y_train y_test"
   ]
  },
  {
   "cell_type": "markdown",
   "id": "e4a26fda",
   "metadata": {},
   "source": [
    "### 6.1 HYPERPARAMETER TUNING"
   ]
  },
  {
   "cell_type": "markdown",
   "id": "7c043bdc",
   "metadata": {},
   "source": [
    "###### 6.1.1 RANDOM FOREST REGRESSION"
   ]
  },
  {
   "cell_type": "code",
   "execution_count": 3,
   "id": "35bf46ca",
   "metadata": {},
   "outputs": [],
   "source": [
    "param_grid = [\n",
    "    {'n_estimators': [1, 10, 100], 'max_features': [2, 4, 6, 8, 10]},\n",
    "    {'bootstrap': [True], 'n_estimators': [2, 10], 'max_features': [2, 3, 4]},\n",
    "  ]"
   ]
  },
  {
   "cell_type": "code",
   "execution_count": 4,
   "id": "f6d33fe0",
   "metadata": {},
   "outputs": [],
   "source": [
    "rf_model = RandomForestRegressor()"
   ]
  },
  {
   "cell_type": "code",
   "execution_count": 5,
   "id": "b9486b94",
   "metadata": {},
   "outputs": [],
   "source": [
    "rf_grid = GridSearchCV(rf_model, param_grid = param_grid, cv = 3, verbose = 2, n_jobs = 3, scoring='neg_mean_squared_error')"
   ]
  },
  {
   "cell_type": "code",
   "execution_count": 6,
   "id": "d83681bd",
   "metadata": {},
   "outputs": [
    {
     "name": "stdout",
     "output_type": "stream",
     "text": [
      "Fitting 3 folds for each of 21 candidates, totalling 63 fits\n"
     ]
    },
    {
     "name": "stderr",
     "output_type": "stream",
     "text": [
      "[Parallel(n_jobs=3)]: Using backend LokyBackend with 3 concurrent workers.\n",
      "[Parallel(n_jobs=3)]: Done  35 tasks      | elapsed:   38.1s\n",
      "[Parallel(n_jobs=3)]: Done  63 out of  63 | elapsed:  1.2min finished\n"
     ]
    }
   ],
   "source": [
    "rf_grid.fit(X_train, y_train);"
   ]
  },
  {
   "cell_type": "code",
   "execution_count": 7,
   "id": "c04867d2",
   "metadata": {},
   "outputs": [
    {
     "data": {
      "text/plain": [
       "51021.83802737542"
      ]
     },
     "execution_count": 7,
     "metadata": {},
     "output_type": "execute_result"
    }
   ],
   "source": [
    "np.sqrt(-rf_grid.best_score_)"
   ]
  },
  {
   "cell_type": "markdown",
   "id": "c406dfa0",
   "metadata": {},
   "source": [
    "### 6.2 ANALYZING MODEL ERRORS"
   ]
  },
  {
   "cell_type": "code",
   "execution_count": 8,
   "id": "97e8acde",
   "metadata": {},
   "outputs": [
    {
     "data": {
      "text/html": [
       "<div>\n",
       "<style scoped>\n",
       "    .dataframe tbody tr th:only-of-type {\n",
       "        vertical-align: middle;\n",
       "    }\n",
       "\n",
       "    .dataframe tbody tr th {\n",
       "        vertical-align: top;\n",
       "    }\n",
       "\n",
       "    .dataframe thead th {\n",
       "        text-align: right;\n",
       "    }\n",
       "</style>\n",
       "<table border=\"1\" class=\"dataframe\">\n",
       "  <thead>\n",
       "    <tr style=\"text-align: right;\">\n",
       "      <th></th>\n",
       "      <th>0</th>\n",
       "    </tr>\n",
       "  </thead>\n",
       "  <tbody>\n",
       "    <tr>\n",
       "      <th>INLAND</th>\n",
       "      <td>0.000220</td>\n",
       "    </tr>\n",
       "    <tr>\n",
       "      <th>NEAR BAY</th>\n",
       "      <td>0.001897</td>\n",
       "    </tr>\n",
       "    <tr>\n",
       "      <th>NEAR OCEAN</th>\n",
       "      <td>0.007231</td>\n",
       "    </tr>\n",
       "    <tr>\n",
       "      <th>ISLAND</th>\n",
       "      <td>0.007764</td>\n",
       "    </tr>\n",
       "    <tr>\n",
       "      <th>households</th>\n",
       "      <td>0.016784</td>\n",
       "    </tr>\n",
       "    <tr>\n",
       "      <th>total_bedrooms</th>\n",
       "      <td>0.019535</td>\n",
       "    </tr>\n",
       "    <tr>\n",
       "      <th>total_rooms</th>\n",
       "      <td>0.019675</td>\n",
       "    </tr>\n",
       "    <tr>\n",
       "      <th>population</th>\n",
       "      <td>0.026309</td>\n",
       "    </tr>\n",
       "    <tr>\n",
       "      <th>rooms_per_house</th>\n",
       "      <td>0.040354</td>\n",
       "    </tr>\n",
       "    <tr>\n",
       "      <th>housing_median_age</th>\n",
       "      <td>0.049664</td>\n",
       "    </tr>\n",
       "    <tr>\n",
       "      <th>bedrooms_per_room</th>\n",
       "      <td>0.050036</td>\n",
       "    </tr>\n",
       "    <tr>\n",
       "      <th>latitude</th>\n",
       "      <td>0.087720</td>\n",
       "    </tr>\n",
       "    <tr>\n",
       "      <th>longitude</th>\n",
       "      <td>0.097585</td>\n",
       "    </tr>\n",
       "    <tr>\n",
       "      <th>&lt;1H OCEAN</th>\n",
       "      <td>0.152702</td>\n",
       "    </tr>\n",
       "    <tr>\n",
       "      <th>median_income</th>\n",
       "      <td>0.422523</td>\n",
       "    </tr>\n",
       "  </tbody>\n",
       "</table>\n",
       "</div>"
      ],
      "text/plain": [
       "                           0\n",
       "INLAND              0.000220\n",
       "NEAR BAY            0.001897\n",
       "NEAR OCEAN          0.007231\n",
       "ISLAND              0.007764\n",
       "households          0.016784\n",
       "total_bedrooms      0.019535\n",
       "total_rooms         0.019675\n",
       "population          0.026309\n",
       "rooms_per_house     0.040354\n",
       "housing_median_age  0.049664\n",
       "bedrooms_per_room   0.050036\n",
       "latitude            0.087720\n",
       "longitude           0.097585\n",
       "<1H OCEAN           0.152702\n",
       "median_income       0.422523"
      ]
     },
     "execution_count": 8,
     "metadata": {},
     "output_type": "execute_result"
    }
   ],
   "source": [
    "feature_importances = pd.DataFrame(rf_grid.best_estimator_.feature_importances_).transpose()\n",
    "feature_importances.columns = X_train.columns\n",
    "feature_importances = feature_importances.transpose()\n",
    "feature_importances.sort_values(by=0)"
   ]
  },
  {
   "cell_type": "markdown",
   "id": "c634fafe",
   "metadata": {},
   "source": [
    "* The following features can be thrown out without losing barely any predictive power:\n",
    "    * INLAND\n",
    "    * NEAR BAY\n",
    "    * ISLAND\n",
    "    * NEAR OCEAN\n",
    "    * households\n",
    "    * total_bedrooms\n",
    "    * population"
   ]
  },
  {
   "cell_type": "markdown",
   "id": "53401f51",
   "metadata": {},
   "source": [
    "### 6.3 MEASURING PERFORMANCE"
   ]
  },
  {
   "cell_type": "code",
   "execution_count": 9,
   "id": "275d117b",
   "metadata": {},
   "outputs": [
    {
     "data": {
      "text/plain": [
       "46949.45692323385"
      ]
     },
     "execution_count": 9,
     "metadata": {},
     "output_type": "execute_result"
    }
   ],
   "source": [
    "final_model = rf_grid.best_estimator_\n",
    "final_predictions = final_model.predict(X_test)\n",
    "final_mse = mean_squared_error(final_predictions, y_test)\n",
    "final_rmse = np.sqrt(final_mse)\n",
    "final_rmse"
   ]
  },
  {
   "cell_type": "markdown",
   "id": "e721ba51",
   "metadata": {},
   "source": [
    " * We have reached the minimum goal of RMSE < 50.000 USD\n",
    " * We were unable to reach the desired value of RMSE < 35.000 USD. More features and data may be needed."
   ]
  }
 ],
 "metadata": {
  "kernelspec": {
   "display_name": "Python 3 (ipykernel)",
   "language": "python",
   "name": "python3"
  },
  "language_info": {
   "codemirror_mode": {
    "name": "ipython",
    "version": 3
   },
   "file_extension": ".py",
   "mimetype": "text/x-python",
   "name": "python",
   "nbconvert_exporter": "python",
   "pygments_lexer": "ipython3",
   "version": "3.8.11"
  }
 },
 "nbformat": 4,
 "nbformat_minor": 5
}
