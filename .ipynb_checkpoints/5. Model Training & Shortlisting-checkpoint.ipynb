{
 "cells": [
  {
   "cell_type": "markdown",
   "id": "ce8265c3",
   "metadata": {},
   "source": [
    "# 5. MODEL TRAINING & SHORTLISTING"
   ]
  },
  {
   "cell_type": "code",
   "execution_count": 1,
   "id": "608929f3",
   "metadata": {},
   "outputs": [],
   "source": [
    "import pandas as pd\n",
    "import numpy as np\n",
    "\n",
    "from sklearn.model_selection import cross_val_score\n",
    "from sklearn.linear_model import LinearRegression\n",
    "from sklearn.ensemble import RandomForestRegressor\n",
    "from sklearn.linear_model import ElasticNet\n",
    "from sklearn.linear_model import Ridge\n",
    "from sklearn.svm import SVR"
   ]
  },
  {
   "cell_type": "code",
   "execution_count": 2,
   "id": "7ec9eb7d",
   "metadata": {},
   "outputs": [],
   "source": [
    "%store -r X_train X_test y_train y_test"
   ]
  },
  {
   "cell_type": "markdown",
   "id": "79b25e67",
   "metadata": {},
   "source": [
    "### 5.1 MODEL TRAINING & COMPARISON"
   ]
  },
  {
   "cell_type": "code",
   "execution_count": 3,
   "id": "c11f04c4",
   "metadata": {},
   "outputs": [],
   "source": [
    "def show_rmse_score(score):\n",
    "    score = np.sqrt(-score)\n",
    "    print(f\"Mean: {score.mean()}\")\n",
    "    print(f\"Standard Deviation: {score.std()}\" )"
   ]
  },
  {
   "cell_type": "markdown",
   "id": "dbb3a22d",
   "metadata": {},
   "source": [
    "###### 5.1.1 LINEAR REGRESSION"
   ]
  },
  {
   "cell_type": "code",
   "execution_count": 4,
   "id": "dd44f608",
   "metadata": {},
   "outputs": [
    {
     "name": "stdout",
     "output_type": "stream",
     "text": [
      "Mean: 69004.78303183308\n",
      "Standard Deviation: 3215.1115337332844\n"
     ]
    }
   ],
   "source": [
    "lin_reg = LinearRegression()\n",
    "scores = cross_val_score(lin_reg, X_train, y_train, scoring=\"neg_mean_squared_error\", cv=10)\n",
    "show_rmse_score(scores)"
   ]
  },
  {
   "cell_type": "markdown",
   "id": "79325097",
   "metadata": {},
   "source": [
    "###### 5.1.2 RANDOM FOREST REGRESSION"
   ]
  },
  {
   "cell_type": "code",
   "execution_count": 5,
   "id": "2fe14ad2",
   "metadata": {},
   "outputs": [
    {
     "name": "stdout",
     "output_type": "stream",
     "text": [
      "Mean: 51437.17562741003\n",
      "Standard Deviation: 167.83578718532095\n"
     ]
    }
   ],
   "source": [
    "random_forest = RandomForestRegressor()\n",
    "scores = cross_val_score(random_forest, X_train, y_train, scoring=\"neg_mean_squared_error\", cv=3)\n",
    "show_rmse_score(scores)"
   ]
  },
  {
   "cell_type": "markdown",
   "id": "3f928fa2",
   "metadata": {},
   "source": [
    "###### 5.1.3 ELASTICNET REGRESSION"
   ]
  },
  {
   "cell_type": "code",
   "execution_count": 6,
   "id": "5dabf6f0",
   "metadata": {},
   "outputs": [
    {
     "name": "stdout",
     "output_type": "stream",
     "text": [
      "Mean: 76402.63532812623\n",
      "Standard Deviation: 2244.8229332675496\n"
     ]
    }
   ],
   "source": [
    "elasticnet = ElasticNet()\n",
    "scores = cross_val_score(elasticnet, X_train, y_train, scoring=\"neg_mean_squared_error\", cv=10)\n",
    "show_rmse_score(scores)"
   ]
  },
  {
   "cell_type": "markdown",
   "id": "265fa92a",
   "metadata": {},
   "source": [
    "###### 5.1.4 RIDGE REGRESSION"
   ]
  },
  {
   "cell_type": "code",
   "execution_count": 7,
   "id": "dfa34599",
   "metadata": {},
   "outputs": [
    {
     "name": "stdout",
     "output_type": "stream",
     "text": [
      "Mean: 69004.53499701669\n",
      "Standard Deviation: 3212.451689209185\n"
     ]
    }
   ],
   "source": [
    "ridge = Ridge()\n",
    "scores = cross_val_score(ridge, X_train, y_train, scoring=\"neg_mean_squared_error\", cv=10)\n",
    "show_rmse_score(scores)"
   ]
  },
  {
   "cell_type": "markdown",
   "id": "f8a3c243",
   "metadata": {},
   "source": [
    "###### 5.1.5 SUPPORT VECTOR REGRESSION"
   ]
  },
  {
   "cell_type": "code",
   "execution_count": null,
   "id": "601a908a",
   "metadata": {},
   "outputs": [],
   "source": [
    "linear_svr = SVR(kernel='linear')\n",
    "scores = cross_val_score(linear_svr, X_train, y_train, scoring=\"neg_mean_squared_error\", cv=10)\n",
    "show_rmse_score(scores)"
   ]
  },
  {
   "cell_type": "markdown",
   "id": "db7ea81d",
   "metadata": {},
   "source": [
    "### 5.2 SHORTLIST"
   ]
  },
  {
   "cell_type": "markdown",
   "id": "c2694721",
   "metadata": {},
   "source": [
    "* Random Forest Regression\n",
    "* Linear Regression\n",
    "* ElasticNet Regression"
   ]
  },
  {
   "cell_type": "code",
   "execution_count": null,
   "id": "7c939b51",
   "metadata": {},
   "outputs": [],
   "source": [
    "%store random_forest lin_reg elasticnet"
   ]
  }
 ],
 "metadata": {
  "kernelspec": {
   "display_name": "Python 3 (ipykernel)",
   "language": "python",
   "name": "python3"
  },
  "language_info": {
   "codemirror_mode": {
    "name": "ipython",
    "version": 3
   },
   "file_extension": ".py",
   "mimetype": "text/x-python",
   "name": "python",
   "nbconvert_exporter": "python",
   "pygments_lexer": "ipython3",
   "version": "3.8.11"
  }
 },
 "nbformat": 4,
 "nbformat_minor": 5
}
